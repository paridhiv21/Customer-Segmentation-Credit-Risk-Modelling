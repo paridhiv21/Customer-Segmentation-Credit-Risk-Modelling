{
  "nbformat": 4,
  "nbformat_minor": 0,
  "metadata": {
    "colab": {
      "provenance": [],
      "authorship_tag": "ABX9TyOwfB/7OasZG/zSa6uIV75r",
      "include_colab_link": true
    },
    "kernelspec": {
      "name": "python3",
      "display_name": "Python 3"
    },
    "language_info": {
      "name": "python"
    }
  },
  "cells": [
    {
      "cell_type": "markdown",
      "metadata": {
        "id": "view-in-github",
        "colab_type": "text"
      },
      "source": [
        "<a href=\"https://colab.research.google.com/github/paridhiv21/Customer-Segmentation-Credit-Risk-Modelling/blob/main/msci_data_.ipynb\" target=\"_parent\"><img src=\"https://colab.research.google.com/assets/colab-badge.svg\" alt=\"Open In Colab\"/></a>"
      ]
    },
    {
      "cell_type": "code",
      "execution_count": null,
      "metadata": {
        "id": "_3ABbC94Uqze"
      },
      "outputs": [],
      "source": [
        "import pandas as pd\n",
        "\n",
        "file_path = 'MSCI data work.xlsx'\n",
        "xls = pd.read_excel(file_path)"
      ]
    },
    {
      "cell_type": "code",
      "source": [
        "msc_out = pd.read_excel(file_path, sheet_name='MSCI in & out')"
      ],
      "metadata": {
        "id": "sHX-a6pKWkyh"
      },
      "execution_count": null,
      "outputs": []
    },
    {
      "cell_type": "code",
      "source": [
        "\n",
        "msc_out.columns = msc_out.iloc[0]\n",
        "\n",
        "msc_out = msc_out.drop(0)\n",
        "\n",
        "msc_out.columns = ['Announcement Date', 'Adjustment Date', 'Inclusion Name', 'Inclusion Identifier',\n",
        "                   'Drop1', 'Announcement Date Ex', 'Adjustment Date Ex', 'Exclusion Name', 'Exclusion Identifier']\n",
        "msc_out = msc_out[['Announcement Date', 'Adjustment Date', 'Inclusion Name', 'Inclusion Identifier',\n",
        "                   'Exclusion Name', 'Exclusion Identifier']]\n"
      ],
      "metadata": {
        "id": "rir45bJqVxOC"
      },
      "execution_count": null,
      "outputs": []
    },
    {
      "cell_type": "code",
      "source": [
        "historical_prices = pd.read_excel(file_path,sheet_name='Data')"
      ],
      "metadata": {
        "id": "SvoAnOmgYAJN"
      },
      "execution_count": null,
      "outputs": []
    },
    {
      "cell_type": "code",
      "source": [
        "\n",
        "import pandas as pd\n",
        "\n",
        "msc_out['Announcement Date'] = pd.to_datetime(msc_out['Announcement Date'])\n",
        "\n",
        "historical_prices['Date'] = pd.to_datetime(historical_prices['Date'])\n",
        "\n",
        "msc_out['One Month Before'] = msc_out['Announcement Date'] - pd.DateOffset(months=1)\n",
        "msc_out['29 Days Before'] = msc_out['Announcement Date'] - pd.DateOffset(days=29)\n",
        "msc_out['Thirty Days Before'] = msc_out['Announcement Date'] - pd.DateOffset(days=30)\n",
        "\n",
        "\n"
      ],
      "metadata": {
        "id": "Jj_wHdupYLCo"
      },
      "execution_count": null,
      "outputs": []
    },
    {
      "cell_type": "code",
      "source": [
        "def get_price(identifier, primary_date, alternate_date_1, alternate_date_2):\n",
        "    price = historical_prices[(historical_prices['Bloom'] == identifier) & (historical_prices['Date'] == primary_date)]['Close Price']\n",
        "    if price.empty:\n",
        "        price = historical_prices[(historical_prices['Bloom'] == identifier) & (historical_prices['Date'] == alternate_date_1)]['Close Price']\n",
        "    if price.empty:\n",
        "        price = historical_prices[(historical_prices['Bloom'] == identifier) & (historical_prices['Date'] == alternate_date_2)]['Close Price']\n",
        "    return price.iloc[0] if not price.empty else None"
      ],
      "metadata": {
        "id": "xo0WKVvpZcxz"
      },
      "execution_count": null,
      "outputs": []
    },
    {
      "cell_type": "code",
      "source": [
        "initial_capital = 1000000\n",
        "updated_capital = initial_capital\n",
        "profits = []\n"
      ],
      "metadata": {
        "id": "QgBAW4PpZn1m"
      },
      "execution_count": null,
      "outputs": []
    },
    {
      "cell_type": "code",
      "source": [
        "for date in sorted(msc_out['Announcement Date'].dropna().unique()):\n",
        "    date_data = msc_out[msc_out['Announcement Date'] == date]\n",
        "    number_of_transactions = date_data['Inclusion Identifier'].notna().sum() + date_data['Exclusion Identifier'].notna().sum()\n",
        "    capital_per_transaction = initial_capital / number_of_transactions if number_of_transactions else 0\n",
        "\n",
        "    date_profit = 0\n",
        "\n",
        "    for _, row in date_data.iterrows():\n",
        "        if pd.notna(row['Inclusion Identifier']):\n",
        "            buy_price = get_price(row['Inclusion Identifier'], row['One Month Before'], row['29 Days Before'], row['Thirty Days Before'])\n",
        "            sell_price = get_price(row['Inclusion Identifier'], row['Announcement Date'], row['Announcement Date'], row['Announcement Date'])\n",
        "            if buy_price and sell_price:\n",
        "                shares = capital_per_transaction / buy_price\n",
        "                profit = shares * (sell_price - buy_price)\n",
        "                date_profit += profit\n",
        "                profits.append({'Date': date, 'Type': 'Inclusion', 'Profit': profit})\n",
        "                print(f\"Buying: {shares} shares of {row['Inclusion Name']} at {buy_price}, selling at {sell_price}, profit: {profit}\")\n",
        "\n",
        "        if pd.notna(row['Exclusion Identifier']):\n",
        "            short_price = get_price(row['Exclusion Identifier'], row['One Month Before'], row['29 Days Before'], row['Thirty Days Before'])\n",
        "            cover_price = get_price(row['Exclusion Identifier'], row['Announcement Date'], row['Announcement Date'], row['Announcement Date'])\n",
        "            if short_price and cover_price:\n",
        "                shares = capital_per_transaction / short_price\n",
        "                profit = shares * (short_price - cover_price)\n",
        "                date_profit += profit\n",
        "                profits.append({'Date': date, 'Type': 'Exclusion', 'Profit': profit})\n",
        "                print(f\"Shorting: {shares} shares of {row['Exclusion Name']} at {short_price}, covering at {cover_price}, profit: {profit}\")\n",
        "\n",
        "    initial_capital += date_profit\n",
        "\n",
        "profits_df = pd.DataFrame(profits)\n",
        "profit_summary = profits_df.groupby('Date').agg(Total_Profit=('Profit', 'sum')).reset_index()\n",
        "\n",
        "total_accumulated_profit = profits_df['Profit'].sum()\n",
        "\n",
        "print(\"Updated Profit Summary by Announcement Date:\")\n",
        "print(profit_summary)\n",
        "print(f\"Total Accumulated Profit: {total_accumulated_profit}\")\n"
      ],
      "metadata": {
        "colab": {
          "base_uri": "https://localhost:8080/"
        },
        "id": "fmwNGdqlZsbW",
        "outputId": "962e0ef2-1e0c-460f-fdaa-cf2fa10d54cd"
      },
      "execution_count": null,
      "outputs": [
        {
          "output_type": "stream",
          "name": "stdout",
          "text": [
            "Buying: 367.0532961385993 shares of Biocon at 340.55, selling at 337.25, profit: -1211.2758772573818\n",
            "Shorting: 2714.440825190011 shares of Ashok Leyland at 46.05, covering at 48.75, profit: -7328.990228013037\n",
            "Buying: 271.7686705076639 shares of Indraprastha Gas at 459.95, selling at 473.0, profit: 3546.581150125017\n",
            "Shorting: 1331.7707223524399 shares of M & M Financial Svcs at 93.86, covering at 107.83, profit: -18604.836991263583\n",
            "Buying: 452.43955407557553 shares of Jubilant Foodworks at 276.28, selling at 339.81, profit: 28743.484870421325\n",
            "Shorting: 3481.8941504178274 shares of Tata Power Co at 35.9, covering at 30.3, profit: 19498.607242339825\n",
            "Buying: 409.7688903458449 shares of Tata Consumer Products at 305.05, selling at 356.35, profit: 21021.14407474185\n",
            "Buying: 105.24986317517786 shares of Torrent Pharma at 1187.65, selling at 1202.08, profit: 1518.7555256177993\n",
            "Buying: 52.930692642139086 shares of Acc at 1521.85, selling at 1670.15, profit: 7849.621718829236\n",
            "Shorting: 6.624797960189927 shares of Bosch at 12159.25, covering at 12238.75, profit: -526.6714378350991\n",
            "Buying: 114.2427664124796 shares of Adani Green Energy at 705.1, selling at 897.55, profit: 21986.02039608169\n",
            "Shorting: 279.45385810039676 shares of Lic Housing Finance at 288.25, covering at 323.75, profit: -9920.611962564084\n",
            "Buying: 35.73047732149277 shares of Apollo Hospitals at 2254.45, selling at 2195.35, profit: -2111.6712097002196\n",
            "Buying: 58.03499610766525 shares of Balkrishna Industries at 1388.0, selling at 1513.95, profit: 7309.507759760441\n",
            "Buying: 75.82846144915689 shares of Ipca Laboratories at 1062.3, selling at 1020.5, profit: -3169.6296885747547\n",
            "Buying: 59.892616526591596 shares of Kotak Mahindra Bank at 1344.95, selling at 1807.85, profit: 27724.29219015924\n",
            "Buying: 1.3748531036029108 shares of Mrf at 58589.95, selling at 68589.15, profit: 13747.431153546222\n",
            "Buying: 70.76568092544967 shares of Muthoot Finance at 1138.3, selling at 1166.65, profit: 2006.207054236508\n",
            "Buying: 39.824281701408694 shares of Pi Industries at 2022.7, selling at 2287.3, profit: 10537.504938192746\n",
            "Buying: 116.24586852938792 shares of Trent at 692.95, selling at 702.95, profit: 1162.4586852938792\n",
            "Buying: 6220.276030690299 shares of Yes Bank at 12.95, selling at 14.15, profit: 7464.331236828366\n",
            "Buying: 150.41515006395142 shares of Adani Ent at 1074.4, selling at 1285.8, profit: 31797.76272351931\n",
            "Shorting: 892.3580189326859 shares of Zee at 181.1, covering at 193.0, profit: -10619.060425298967\n",
            "Buying: 163.19721002646747 shares of Adani Total Gas at 990.25, selling at 1313.45, profit: 52745.33828055429\n",
            "Buying: 174.72811896281698 shares of Adani Trans at 924.9, selling at 1203.55, profit: 48687.99034898895\n",
            "Buying: 3977.5052234484224 shares of Bharat Electron at 40.63, selling at 48.95, profit: 33092.84345909087\n",
            "Buying: 316.34733723932544 shares of Cholamandalam In at 510.85, selling at 524.0, profit: 4159.967484697122\n",
            "Buying: 181.48805348835916 shares of Sbi Cards at 890.45, selling at 974.55, profit: 15263.145298370988\n",
            "Buying: 67.04560723081009 shares of Godrej Prop at 2435.6, selling at 2291.95, profit: -9631.101478705876\n",
            "Shorting: 138.4101381347356 shares of Ipca at 1179.8, covering at 1109.48, profit: 9733.000913634598\n",
            "Buying: 169.49118373694645 shares of Indian Railway C at 963.45, selling at 864.85, profit: -16711.830716462926\n",
            "Shorting: 1363.7571485832727 shares of Rural Electrical at 119.74, covering at 109.24, profit: 14319.450060124364\n",
            "Buying: 52.27990426488268 shares of Mphasis Ltd at 3123.5, selling at 3353.4, profit: 12019.149990496533\n",
            "Buying: 65.54477294474971 shares of Srf Ltd at 2491.37, selling at 2154.9, profit: -22053.84975271992\n",
            "Buying: 833.9953062888716 shares of Tata Power Co at 195.8, selling at 239.85, profit: 36737.49324202478\n",
            "Buying: 1195.4339749001542 shares of Zomato Ltd at 136.6, selling at 153.0, profit: 19605.117188362536\n",
            "Buying: 1209.7537981792989 shares of Adani Power Ltd at 223.25, selling at 254.65, profit: 37986.26926282999\n",
            "Shorting: 122.86024585171317 shares of HDFC AMC at 2198.25, covering at 1770.05, profit: 52608.75727370359\n",
            "Buying: 385.05494075210794 shares of Au Small Finance at 701.4, selling at 646.83, profit: -21012.448116842505\n",
            "Buying: 488.9166101439691 shares of Jindal Steel & P at 552.4, selling at 453.55, profit: -48329.40691273133\n",
            "Buying: 32.21421496738096 shares of Tata Elxsi Ltd at 8383.8, selling at 7886.65, profit: -16015.296971033433\n",
            "Buying: 84.21394459686464 shares of Tube Investments at 2682.9, selling at 2573.15, profit: -9242.480419505893\n",
            "Buying: 683.9339850429185 shares of Indian Hotels co at 330.35, selling at 315.35, profit: -10259.009775643777\n",
            "Buying: 432.292340876166 shares of Varun Beverages at 522.65, selling at 553.2, profit: 13206.5310137669\n",
            "Buying: 214.11826379731627 shares of TVS Motor at 1055.2, selling at 1107.45, profit: 11187.679283409776\n",
            "Buying: 33.87446373740461 shares of Bajaj Holdings & Invest at 6669.85, selling at 6699.55, profit: 1006.0715730009108\n",
            "Buying: 70.67064698985882 shares of ABB India at 3197.05, selling at 3155.85, profit: -2911.630655982203\n",
            "Buying: 1562.701532979773 shares of CG Power at 289.8, selling at 327.85, profit: 59460.793329880384\n",
            "Shorting: 1755.9942003006524 shares of Biocon at 257.9, covering at 242.35, profit: 27305.709814675116\n",
            "Buying: 2506.203122620577 shares of Bank of Baroda at 180.7, selling at 169.3, profit: -28570.715597874518\n",
            "Buying: 492.9744259983631 shares of Max Healthcare Insititute at 479.0, selling at 499.85, profit: 10278.51678206588\n",
            "Shorting: 226.30193114496709 shares of Adani Transmission at 1043.45, covering at 884.8, profit: 35902.80137614905\n",
            "Buying: 167.97418518773628 shares of Hindustan Aeronautics at 1405.78, selling at 1486.98, profit: 13639.503837244194\n",
            "Shorting: 251.5148852886147 shares of Aadani Total Gas at 938.85, covering at 818.35, profit: 30307.54367727807\n",
            "Buying: 546.5449601972363 shares of Sona Blw Precision at 432.05, selling at 534.0, profit: 55720.25869210823\n",
            "Shorting: 1692.1157295106837 shares of Indus Towers at 139.55, covering at 148.15, profit: -14552.19527379187\n",
            "Buying: 2077.4354930358954 shares of Idfc First Bank at 82.8, selling at 88.15, profit: 11114.27988774206\n",
            "Shorting: 96.4596432487717 shares of ACC at 1783.25, covering at 1953.65, profit: -16436.723209590706\n",
            "Buying: 1015.4171122985367 shares of Rec at 169.4, selling at 224.3, profit: 55746.39946518967\n",
            "Buying: 946.7836791246814 shares of Power Finance Corp at 181.68, selling at 211.24, profit: 27986.925554925583\n",
            "Buying: 53.92553101240583 shares of Supreme Industries at 3189.8, selling at 4071.35, profit: 47538.051863986344\n",
            "Buying: 1033.7239111981498 shares of Ashok Leyland at 166.4, selling at 187.1, profit: 21398.08496180169\n",
            "Buying: 90.98017021837575 shares of Cummins India at 1890.65, selling at 1738.6, profit: -13833.534881704049\n",
            "Buying: 96.67649786335373 shares of Astral at 1779.25, selling at 1974.3, profit: 18856.75090824714\n",
            "Buying: 75.35282392875791 shares of HDFC AMC at 2282.75, selling at 2560.85, profit: 20955.62033458757\n",
            "Buying: 133.1964395152843 shares of Indusind Bank at 1436.0, selling at 1493.95, profit: 7718.733669910732\n",
            "Buying: 6483.731767591466 shares of Suzlon Energy at 29.5, selling at 40.5, profit: 71321.04944350613\n",
            "Buying: 66.9753056533296 shares of Persistent Systems at 2855.83, selling at 3131.9, profit: 18489.872631714712\n",
            "Buying: 107.7608310904241 shares of Apl Apollo Tubes at 1774.95, selling at 1662.3, profit: -12139.257622336285\n",
            "Buying: 34.98085849903495 shares of Polycab India at 5467.85, selling at 5130.45, profit: -11802.541657574411\n",
            "Buying: 438.79350113316883 shares of Tata Motors A at 435.9, selling at 453.5, profit: 7722.7656199437815\n",
            "Buying: 233.91229930775134 shares of Macrotech Dev at 817.7, selling at 852.75, profit: 8198.626090736674\n",
            "Buying: 203.14384487700949 shares of One 97 Com at 941.55, selling at 919.1, profit: -4560.5793174888495\n",
            "Buying: 106.99825863948774 shares of Tata Com at 1787.6, selling at 1684.3, profit: -11052.92011745908\n",
            "Buying: 3656.4695173859222 shares of Punjab National Bank at 98.2, selling at 122.1, profit: 87389.62146552351\n",
            "Buying: 1784.1754365580002 shares of Bharat Heavy Electricals at 201.25, selling at 213.35, profit: 21588.522782351793\n",
            "Buying: 1714.7340334636942 shares of NMDC at 209.4, selling at 226.8, profit: 29836.37218226829\n",
            "Buying: 2677.593636146887 shares of Union Bank of India at 134.1, selling at 136.15, profit: 5489.066954101149\n",
            "Buying: 4313.096776063634 shares of GMR Airports Infra at 83.25, selling at 89.85, profit: 28466.43872201996\n",
            "Updated Profit Summary by Announcement Date:\n",
            "         Date   Total_Profit\n",
            "0  2020-05-13   47183.469767\n",
            "1  2020-11-11   84058.790834\n",
            "2  2021-05-12  175127.987170\n",
            "3  2021-11-12   44017.429447\n",
            "4  2022-05-13    5237.874536\n",
            "5  2022-11-11    2987.161019\n",
            "6  2023-02-10   58195.787547\n",
            "7  2023-05-12  131296.429091\n",
            "8  2023-08-11  173325.854885\n",
            "9  2023-11-15   73895.748741\n",
            "10 2024-02-13  172770.022106\n",
            "Total Accumulated Profit: 968096.5551427527\n"
          ]
        }
      ]
    }
  ]
}